{
  "nbformat": 4,
  "nbformat_minor": 0,
  "metadata": {
    "colab": {
      "provenance": []
    },
    "kernelspec": {
      "name": "python3",
      "display_name": "Python 3"
    },
    "language_info": {
      "name": "python"
    }
  },
  "cells": [
    {
      "cell_type": "markdown",
      "source": [
        "# pseudo code\n",
        "\n",
        "\n",
        "```\n",
        "# algorithm\n",
        "hidden_state_t = 0 # 초기 값 0(vector)\n",
        "for input_t in input_length:\n",
        "  ouput_t = tanh(input_t, hidden_state_t) # 각 시점에 대해 input과 hidden state로 계산\n",
        "  hidden_state_t = output_t # 현재 시점의 hidden state\n",
        "\n",
        "```\n",
        "\n",
        "\n"
      ],
      "metadata": {
        "id": "_tBeY3AIj6v0"
      }
    },
    {
      "cell_type": "markdown",
      "source": [
        "![스크린샷 2024-04-13 오후 5.24.28.png](data:image/png;base64,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)"
      ],
      "metadata": {
        "id": "2bhY5nUUjiIn"
      }
    },
    {
      "cell_type": "code",
      "source": [
        "import numpy as np\n",
        "\n",
        "timesteps = 10\n",
        "input_dim = 4\n",
        "hidden_units = 8\n",
        "\n",
        "# input에 해당되는 2D Tensor\n",
        "inputs = np.random.random((timesteps, input_dim))\n",
        "\n",
        "# 초기 hidden state 설정\n",
        "hidden_state_t = np.zeros((hidden_units,))\n",
        "\n",
        "print('first hidden state: ', hidden_state_t)"
      ],
      "metadata": {
        "colab": {
          "base_uri": "https://localhost:8080/"
        },
        "id": "1jNHr2vpjfDV",
        "outputId": "cb2a0f05-e98f-4e96-ff33-cb5e23860fbd"
      },
      "execution_count": 1,
      "outputs": [
        {
          "output_type": "stream",
          "name": "stdout",
          "text": [
            "first hidden state:  [0. 0. 0. 0. 0. 0. 0. 0.]\n"
          ]
        }
      ]
    },
    {
      "cell_type": "code",
      "execution_count": 3,
      "metadata": {
        "colab": {
          "base_uri": "https://localhost:8080/"
        },
        "id": "jrxKntSpjUFs",
        "outputId": "3ddc67eb-3f73-4e19-ac60-7874c6876124"
      },
      "outputs": [
        {
          "output_type": "stream",
          "name": "stdout",
          "text": [
            "input weight shape :  (8, 4)\n",
            "hidden state weight shape :  (8, 8)\n",
            "bias shape :  (8,)\n"
          ]
        }
      ],
      "source": [
        "# (8,4) 2D Tensor 생성 (input weight)\n",
        "W_x = np.random.random((hidden_units, input_dim))\n",
        "\n",
        "# (8,8) 2D Tensor 생성 (hidden state weight)\n",
        "W_h = np.random.random((hidden_units, hidden_units))\n",
        "\n",
        "# (8,) 1D Tensor 생성 (bias)\n",
        "b = np.random.random((hidden_units,))\n",
        "\n",
        "print('input weight shape : ', np.shape(W_x))\n",
        "print('hidden state weight shape : ', np.shape(W_h))\n",
        "print('bias shape : ', np.shape(b))"
      ]
    },
    {
      "cell_type": "code",
      "source": [
        "total_hidden_states = []\n",
        "\n",
        "# 각 시점 별 input\n",
        "for input_t in inputs:\n",
        "\n",
        "  output_t = np.tanh(np.dot(W_x,input_t)+ np.dot(W_h,hidden_state_t) + b)\n",
        "\n",
        "  # 각 시점 별 RNN cell의 output layer 크기는 (timestep t, output_dim)\n",
        "  # 각 시점의 hidden state 값 누적\n",
        "\n",
        "  total_hidden_states.append(list(output_t))\n",
        "  hidden_state_t = output_t\n",
        "\n",
        "# 출력시 값 깔끔하게 떨어지게 하는 function\n",
        "total_hidden_states = np.stack(total_hidden_states, axis = 0)\n",
        "\n",
        "# (timestep t, output_dim)\n",
        "print('모든 시점의 hidden state : ')\n",
        "print(total_hidden_states)"
      ],
      "metadata": {
        "colab": {
          "base_uri": "https://localhost:8080/"
        },
        "id": "RB2JUqyMm9ue",
        "outputId": "d38eca67-e4ac-4277-8b95-0a4b2ab3c80d"
      },
      "execution_count": 4,
      "outputs": [
        {
          "output_type": "stream",
          "name": "stdout",
          "text": [
            "모든 시점의 hidden state : \n",
            "[[0.82610421 0.91454821 0.92387566 0.97330653 0.69424045 0.9435722\n",
            "  0.88318922 0.9699112 ]\n",
            " [0.99986624 0.99974263 0.99991988 0.99998989 0.9998824  0.99998358\n",
            "  0.99999445 0.99996019]\n",
            " [0.99998541 0.99994131 0.99999047 0.99999878 0.99996877 0.99999909\n",
            "  0.99999977 0.9999924 ]\n",
            " [0.9999518  0.99983372 0.99996846 0.99999133 0.99990148 0.99999401\n",
            "  0.99999776 0.99995626]\n",
            " [0.9999816  0.99976476 0.99996504 0.99999149 0.99992827 0.99999582\n",
            "  0.99999888 0.99995404]\n",
            " [0.99997618 0.99989525 0.9999804  0.99999716 0.99996155 0.99999747\n",
            "  0.99999939 0.9999838 ]\n",
            " [0.99998281 0.99996264 0.99999368 0.99999892 0.99994966 0.99999937\n",
            "  0.99999973 0.99999307]\n",
            " [0.99994746 0.99986693 0.99997162 0.9999928  0.99990766 0.9999945\n",
            "  0.99999774 0.99996286]\n",
            " [0.99998433 0.99991979 0.99998484 0.99999694 0.99993768 0.9999985\n",
            "  0.99999936 0.99998097]\n",
            " [0.99998374 0.99994807 0.99999111 0.99999861 0.99995704 0.99999912\n",
            "  0.99999969 0.99999129]]\n"
          ]
        }
      ]
    }
  ]
}